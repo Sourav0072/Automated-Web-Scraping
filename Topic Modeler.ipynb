{
 "cells": [
  {
   "cell_type": "code",
   "execution_count": 1,
   "id": "065ee639",
   "metadata": {},
   "outputs": [],
   "source": [
    "import pandas as pd\n",
    "\n",
    "# Load the dataset\n",
    "df = pd.read_csv(\"blueprint-health-blogs.csv\")"
   ]
  },
  {
   "cell_type": "markdown",
   "id": "e528c052",
   "metadata": {},
   "source": [
    "# PREPROCESSING"
   ]
  },
  {
   "cell_type": "markdown",
   "id": "c23521b4",
   "metadata": {},
   "source": [
    "Text preprocessing: Clean and preprocess the text data by removing stopwords, punctuation, and performing other necessary text cleaning steps. You may also want to perform tokenization and lemmatization."
   ]
  },
  {
   "cell_type": "code",
   "execution_count": 4,
   "id": "beea0415",
   "metadata": {},
   "outputs": [
    {
     "name": "stderr",
     "output_type": "stream",
     "text": [
      "[nltk_data] Downloading package stopwords to\n",
      "[nltk_data]     C:\\Users\\13477\\AppData\\Roaming\\nltk_data...\n",
      "[nltk_data]   Package stopwords is already up-to-date!\n",
      "[nltk_data] Downloading package punkt to\n",
      "[nltk_data]     C:\\Users\\13477\\AppData\\Roaming\\nltk_data...\n",
      "[nltk_data]   Package punkt is already up-to-date!\n",
      "[nltk_data] Downloading package wordnet to\n",
      "[nltk_data]     C:\\Users\\13477\\AppData\\Roaming\\nltk_data...\n",
      "[nltk_data]   Package wordnet is already up-to-date!\n"
     ]
    }
   ],
   "source": [
    "import nltk\n",
    "from nltk.corpus import stopwords\n",
    "from nltk.tokenize import word_tokenize\n",
    "from nltk.stem import WordNetLemmatizer\n",
    "import string\n",
    "\n",
    "# Download NLTK resources (if not already downloaded)\n",
    "nltk.download(\"stopwords\")\n",
    "nltk.download(\"punkt\")\n",
    "nltk.download(\"wordnet\")\n",
    "\n",
    "# Create stopwords list\n",
    "stopwords = set(stopwords.words(\"english\"))\n",
    "\n",
    "# Create lemmatizer\n",
    "lemmatizer = WordNetLemmatizer()\n",
    "\n",
    "# Text preprocessing function\n",
    "def preprocess_text(text):\n",
    "    # Tokenize the text\n",
    "    tokens = word_tokenize(text.lower())\n",
    "    \n",
    "    # Remove stopwords and punctuation\n",
    "    tokens = [token for token in tokens if token not in stopwords and token not in string.punctuation]\n",
    "    \n",
    "    # Lemmatize the tokens\n",
    "    tokens = [lemmatizer.lemmatize(token) for token in tokens]\n",
    "    \n",
    "    # Join the tokens back into a single string\n",
    "    processed_text = \" \".join(tokens)\n",
    "    \n",
    "    return processed_text\n",
    "\n",
    "# Apply text preprocessing to the \"text\" column in the DataFrame\n",
    "df[\"processed_text\"] = df[\"Description\"].apply(preprocess_text)\n"
   ]
  },
  {
   "cell_type": "code",
   "execution_count": 5,
   "id": "68fb7740",
   "metadata": {
    "scrolled": true
   },
   "outputs": [
    {
     "name": "stderr",
     "output_type": "stream",
     "text": [
      "[nltk_data] Downloading package omw-1.4 to\n",
      "[nltk_data]     C:\\Users\\13477\\AppData\\Roaming\\nltk_data...\n",
      "[nltk_data]   Package omw-1.4 is already up-to-date!\n"
     ]
    },
    {
     "data": {
      "text/plain": [
       "True"
      ]
     },
     "execution_count": 5,
     "metadata": {},
     "output_type": "execute_result"
    }
   ],
   "source": [
    "##import nltk\n",
    "##nltk.download('omw-1.4')"
   ]
  },
  {
   "cell_type": "markdown",
   "id": "866ce0c9",
   "metadata": {},
   "source": [
    "# VECTORIZATION"
   ]
  },
  {
   "cell_type": "markdown",
   "id": "b5181119",
   "metadata": {},
   "source": [
    "Vectorize the text data: Convert the preprocessed text data into numerical vectors using techniques like TF-IDF or CountVectorizer."
   ]
  },
  {
   "cell_type": "code",
   "execution_count": 6,
   "id": "0fa38495",
   "metadata": {},
   "outputs": [],
   "source": [
    "from sklearn.feature_extraction.text import TfidfVectorizer\n",
    "\n",
    "# Create a TF-IDF vectorizer\n",
    "vectorizer = TfidfVectorizer()\n",
    "\n",
    "# Vectorize the processed text data\n",
    "X = vectorizer.fit_transform(df[\"processed_text\"])\n"
   ]
  },
  {
   "cell_type": "markdown",
   "id": "e4fa7e36",
   "metadata": {},
   "source": [
    "# LDA"
   ]
  },
  {
   "cell_type": "markdown",
   "id": "b21e1f72",
   "metadata": {},
   "source": [
    "Topic modeling using LDA: Apply Latent Dirichlet Allocation (LDA) to the vectorized text data to extract topics."
   ]
  },
  {
   "cell_type": "code",
   "execution_count": 7,
   "id": "71f2f336",
   "metadata": {},
   "outputs": [
    {
     "name": "stdout",
     "output_type": "stream",
     "text": [
      "Topic #1:\n",
      "dropout, care, payer, code, symptom, mbc, client, insurance, cpt, based\n",
      "\n",
      "Topic #2:\n",
      "blueprint, weâ, care, body, mind, clinician, co, client, health, free\n",
      "\n",
      "Topic #3:\n",
      "client, session, youâ, ve, itâ, item, mbc, treatment, feel, measurement\n",
      "\n",
      "Topic #4:\n",
      "effectiveness, therapist, ema, behavior, strength, plant, mood, sleep, patient, client\n",
      "\n",
      "Topic #5:\n",
      "client, friend, trail, session, instead, language, alliance, therapist, person, say\n",
      "\n"
     ]
    },
    {
     "name": "stderr",
     "output_type": "stream",
     "text": [
      "C:\\Users\\13477\\anaconda3\\lib\\site-packages\\sklearn\\utils\\deprecation.py:87: FutureWarning: Function get_feature_names is deprecated; get_feature_names is deprecated in 1.0 and will be removed in 1.2. Please use get_feature_names_out instead.\n",
      "  warnings.warn(msg, category=FutureWarning)\n"
     ]
    }
   ],
   "source": [
    "from sklearn.decomposition import LatentDirichletAllocation\n",
    "\n",
    "# Create an LDA model\n",
    "lda = LatentDirichletAllocation(n_components=5, random_state=42)\n",
    "\n",
    "# Fit the LDA model to the vectorized data\n",
    "lda.fit(X)\n",
    "\n",
    "# Get the most important words for each topic\n",
    "feature_names = vectorizer.get_feature_names()\n",
    "num_top_words = 10\n",
    "\n",
    "for topic_idx, topic in enumerate(lda.components_):\n",
    "    top_words = [feature_names[i] for i in topic.argsort()[:-num_top_words - 1:-1]]\n",
    "    print(f\"Topic #{topic_idx + 1}:\")\n",
    "    print(\", \".join(top_words))\n",
    "    print()\n"
   ]
  },
  {
   "cell_type": "code",
   "execution_count": null,
   "id": "f0e7c5c0",
   "metadata": {},
   "outputs": [],
   "source": []
  }
 ],
 "metadata": {
  "kernelspec": {
   "display_name": "Python 3 (ipykernel)",
   "language": "python",
   "name": "python3"
  },
  "language_info": {
   "codemirror_mode": {
    "name": "ipython",
    "version": 3
   },
   "file_extension": ".py",
   "mimetype": "text/x-python",
   "name": "python",
   "nbconvert_exporter": "python",
   "pygments_lexer": "ipython3",
   "version": "3.9.13"
  }
 },
 "nbformat": 4,
 "nbformat_minor": 5
}
