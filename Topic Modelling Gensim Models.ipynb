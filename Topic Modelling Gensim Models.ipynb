{
 "cells": [
  {
   "cell_type": "code",
   "execution_count": 2,
   "id": "3abd24e8",
   "metadata": {},
   "outputs": [
    {
     "name": "stderr",
     "output_type": "stream",
     "text": [
      "[nltk_data] Downloading package stopwords to\n",
      "[nltk_data]     C:\\Users\\13477\\AppData\\Roaming\\nltk_data...\n",
      "[nltk_data]   Package stopwords is already up-to-date!\n",
      "[nltk_data] Downloading package punkt to\n",
      "[nltk_data]     C:\\Users\\13477\\AppData\\Roaming\\nltk_data...\n",
      "[nltk_data]   Package punkt is already up-to-date!\n",
      "[nltk_data] Downloading package wordnet to\n",
      "[nltk_data]     C:\\Users\\13477\\AppData\\Roaming\\nltk_data...\n",
      "[nltk_data]   Package wordnet is already up-to-date!\n"
     ]
    },
    {
     "name": "stdout",
     "output_type": "stream",
     "text": [
      "(0, '0.081*\",\" + 0.041*\".\" + 0.017*\"client\" + 0.009*\"care\" + 0.009*\"therapist\" + 0.006*\"treatment\" + 0.006*\"clinician\" + 0.006*\":\" + 0.006*\"data\" + 0.006*\"help\"')\n",
      "(1, '0.046*\",\" + 0.034*\".\" + 0.014*\"care\" + 0.011*\")\" + 0.009*\"(\" + 0.007*\"health\" + 0.007*\"code\" + 0.007*\"payer\" + 0.006*\"client\" + 0.006*\"measurement-based\"')\n",
      "(2, '0.041*\",\" + 0.020*\".\" + 0.017*\"session\" + 0.014*\"client\" + 0.013*\"therapist\" + 0.009*\"blueprint\" + 0.008*\"time\" + 0.007*\"clinician\" + 0.006*\"care\" + 0.006*\"week\"')\n",
      "(3, '0.037*\",\" + 0.012*\".\" + 0.010*\"clinician\" + 0.010*\"blueprint\" + 0.010*\"way\" + 0.009*\"care\" + 0.007*\"client\" + 0.007*\"mental\" + 0.007*\"measurement-based\" + 0.007*\"health\"')\n",
      "(4, '0.043*\",\" + 0.032*\".\" + 0.018*\"session\" + 0.017*\"client\" + 0.012*\":\" + 0.008*\"week\" + 0.008*\"mbc\" + 0.008*\"feel\" + 0.007*\"care\" + 0.007*\"measurement-based\"')\n"
     ]
    }
   ],
   "source": [
    "import pandas as pd\n",
    "import nltk\n",
    "from nltk.corpus import stopwords\n",
    "from nltk.tokenize import word_tokenize\n",
    "from nltk.stem import WordNetLemmatizer\n",
    "from gensim import corpora, models\n",
    "\n",
    "# Download required NLTK resources\n",
    "nltk.download('stopwords')\n",
    "nltk.download('punkt')\n",
    "nltk.download('wordnet')\n",
    "\n",
    "# Load the CSV file into a DataFrame\n",
    "df = pd.read_csv('blueprint-health-blogs.csv')\n",
    "\n",
    "# Preprocessing function\n",
    "def preprocess_text(text):\n",
    "    # Tokenize the text\n",
    "    tokens = word_tokenize(text.lower())\n",
    "    \n",
    "    # Remove stopwords\n",
    "    stop_words = set(stopwords.words('english'))\n",
    "    tokens = [token for token in tokens if token not in stop_words]\n",
    "    \n",
    "    # Lemmatize the tokens\n",
    "    lemmatizer = WordNetLemmatizer()\n",
    "    tokens = [lemmatizer.lemmatize(token) for token in tokens]\n",
    "    \n",
    "    return tokens\n",
    "\n",
    "# Apply text preprocessing to the \"Description\" column in the DataFrame\n",
    "df['processed_text'] = df['Description'].apply(preprocess_text)\n",
    "\n",
    "# Create a dictionary from the preprocessed texts\n",
    "dictionary = corpora.Dictionary(df['processed_text'])\n",
    "\n",
    "# Create a corpus (bag of words) representation of the texts\n",
    "corpus = [dictionary.doc2bow(text) for text in df['processed_text']]\n",
    "\n",
    "# Train an LDA model using the corpus and dictionary\n",
    "lda_model = models.LdaModel(corpus, id2word=dictionary, num_topics=5, passes=10)\n",
    "\n",
    "# Get the topics and their corresponding keywords\n",
    "topics = lda_model.print_topics(num_topics=5)\n",
    "\n",
    "# Print the topics and keywords\n",
    "for topic in topics:\n",
    "    print(topic)\n",
    "\n"
   ]
  },
  {
   "cell_type": "code",
   "execution_count": null,
   "id": "d3922054",
   "metadata": {},
   "outputs": [],
   "source": []
  }
 ],
 "metadata": {
  "kernelspec": {
   "display_name": "Python 3 (ipykernel)",
   "language": "python",
   "name": "python3"
  },
  "language_info": {
   "codemirror_mode": {
    "name": "ipython",
    "version": 3
   },
   "file_extension": ".py",
   "mimetype": "text/x-python",
   "name": "python",
   "nbconvert_exporter": "python",
   "pygments_lexer": "ipython3",
   "version": "3.9.13"
  }
 },
 "nbformat": 4,
 "nbformat_minor": 5
}
